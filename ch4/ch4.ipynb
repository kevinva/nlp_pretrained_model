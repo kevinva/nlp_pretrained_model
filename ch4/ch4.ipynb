{
 "cells": [
  {
   "cell_type": "code",
   "execution_count": 1,
   "id": "411e0df5",
   "metadata": {},
   "outputs": [],
   "source": [
    "from torch.nn import RNN\n",
    "import torch\n",
    "import torch.nn as nn"
   ]
  },
  {
   "cell_type": "code",
   "execution_count": 2,
   "id": "c2d7c663",
   "metadata": {},
   "outputs": [],
   "source": [
    "rnn = RNN(input_size=4, hidden_size=5, batch_first=True)"
   ]
  },
  {
   "cell_type": "code",
   "execution_count": 3,
   "id": "c9256904",
   "metadata": {},
   "outputs": [],
   "source": [
    "inputs = torch.rand(2, 3, 4)"
   ]
  },
  {
   "cell_type": "code",
   "execution_count": 4,
   "id": "5440f32f",
   "metadata": {},
   "outputs": [],
   "source": [
    "outputs, hn = rnn(inputs)"
   ]
  },
  {
   "cell_type": "code",
   "execution_count": 5,
   "id": "6c92c93c",
   "metadata": {},
   "outputs": [
    {
     "data": {
      "text/plain": [
       "tensor([[[ 0.1379,  0.7494,  0.3985, -0.3255,  0.0272],\n",
       "         [ 0.3392,  0.6557, -0.2550, -0.4567, -0.2601],\n",
       "         [ 0.5708,  0.7729, -0.0370, -0.4537,  0.1507]],\n",
       "\n",
       "        [[ 0.3325,  0.7780, -0.0464, -0.3506, -0.2138],\n",
       "         [ 0.4590,  0.7016, -0.2452, -0.4165, -0.0343],\n",
       "         [ 0.5885,  0.7117, -0.3927, -0.4772,  0.0844]]],\n",
       "       grad_fn=<TransposeBackward1>)"
      ]
     },
     "execution_count": 5,
     "metadata": {},
     "output_type": "execute_result"
    }
   ],
   "source": [
    "outputs"
   ]
  },
  {
   "cell_type": "code",
   "execution_count": 6,
   "id": "fb1f6ab7",
   "metadata": {},
   "outputs": [
    {
     "data": {
      "text/plain": [
       "tensor([[[ 0.5708,  0.7729, -0.0370, -0.4537,  0.1507],\n",
       "         [ 0.5885,  0.7117, -0.3927, -0.4772,  0.0844]]],\n",
       "       grad_fn=<StackBackward0>)"
      ]
     },
     "execution_count": 6,
     "metadata": {},
     "output_type": "execute_result"
    }
   ],
   "source": [
    "hn  # shape: 1 x 批次大小 x 隐藏层大小"
   ]
  },
  {
   "cell_type": "code",
   "execution_count": null,
   "id": "4e5e523b",
   "metadata": {},
   "outputs": [],
   "source": []
  },
  {
   "cell_type": "markdown",
   "id": "ad84d0ee",
   "metadata": {},
   "source": [
    "### transformer demo"
   ]
  },
  {
   "cell_type": "code",
   "execution_count": 7,
   "id": "9f5da283",
   "metadata": {},
   "outputs": [],
   "source": [
    "encoder_layer = nn.TransformerEncoderLayer(d_model=4, nhead=2)\n",
    "src = torch.rand(2, 3, 4)\n",
    "out = encoder_layer(src)"
   ]
  },
  {
   "cell_type": "code",
   "execution_count": 8,
   "id": "a74c44fc",
   "metadata": {},
   "outputs": [
    {
     "data": {
      "text/plain": [
       "tensor([[[ 0.8745,  1.1060, -0.8307, -1.1498],\n",
       "         [-1.6010,  0.1219,  1.1444,  0.3347],\n",
       "         [ 0.3442,  1.4746, -0.7462, -1.0726]],\n",
       "\n",
       "        [[-0.5222,  1.6971, -0.8677, -0.3071],\n",
       "         [-0.0512,  0.9340,  0.7281, -1.6109],\n",
       "         [ 1.5189, -0.6427,  0.2313, -1.1075]]],\n",
       "       grad_fn=<NativeLayerNormBackward0>)"
      ]
     },
     "execution_count": 8,
     "metadata": {},
     "output_type": "execute_result"
    }
   ],
   "source": [
    "out"
   ]
  },
  {
   "cell_type": "code",
   "execution_count": 9,
   "id": "85e9415a",
   "metadata": {},
   "outputs": [
    {
     "name": "stdout",
     "output_type": "stream",
     "text": [
      "tensor([[[ 0.7188,  0.8874, -1.6415,  0.0354],\n",
      "         [-1.3742,  0.1996,  1.4185, -0.2438],\n",
      "         [ 0.0299,  1.3304,  0.1274, -1.4876]],\n",
      "\n",
      "        [[ 0.0065,  1.3204, -1.4930,  0.1661],\n",
      "         [ 0.8215,  0.9743, -0.2800, -1.5157],\n",
      "         [ 0.8588, -0.2737,  0.9355, -1.5206]]],\n",
      "       grad_fn=<NativeLayerNormBackward0>)\n"
     ]
    }
   ],
   "source": [
    "transformer_encoder = nn.TransformerEncoder(encoder_layer, num_layers=6)\n",
    "out = transformer_encoder(src)\n",
    "print(out)"
   ]
  },
  {
   "cell_type": "code",
   "execution_count": 10,
   "id": "fe88f8a3",
   "metadata": {},
   "outputs": [
    {
     "name": "stdout",
     "output_type": "stream",
     "text": [
      "tensor([[[ 0.4187,  1.3972, -0.5734, -1.2425],\n",
      "         [-1.6286,  0.4788,  0.0967,  1.0531],\n",
      "         [-1.6675,  0.8310,  0.1193,  0.7173]],\n",
      "\n",
      "        [[-1.5641, -0.1679,  0.7533,  0.9787],\n",
      "         [-0.6510, -0.5150, -0.5641,  1.7300],\n",
      "         [ 0.0886,  1.5920, -0.9908, -0.6899]]],\n",
      "       grad_fn=<NativeLayerNormBackward0>)\n"
     ]
    }
   ],
   "source": [
    "memory = transformer_encoder(src)\n",
    "decoder_layer = nn.TransformerDecoderLayer(d_model=4, nhead=2)\n",
    "transformer_decoder = nn.TransformerDecoder(decoder_layer, num_layers=6)\n",
    "out_part = torch.rand(2, 3, 4)\n",
    "out = transformer_decoder(out_part, memory)\n",
    "print(out)"
   ]
  },
  {
   "cell_type": "code",
   "execution_count": null,
   "id": "1b4f46e1",
   "metadata": {},
   "outputs": [],
   "source": []
  },
  {
   "cell_type": "markdown",
   "id": "ebc83ba0",
   "metadata": {},
   "source": [
    "### 情感分析"
   ]
  },
  {
   "cell_type": "code",
   "execution_count": 12,
   "id": "0d427725",
   "metadata": {},
   "outputs": [
    {
     "name": "stdout",
     "output_type": "stream",
     "text": [
      "tensor([[[ 0.6923, -0.1346, -0.1242],\n",
      "         [-1.4251,  0.0223, -0.2153],\n",
      "         [ 0.7121,  1.3631,  0.8899],\n",
      "         [-1.4251,  0.0223, -0.2153]],\n",
      "\n",
      "        [[-1.4206, -1.9937, -0.6145],\n",
      "         [ 0.9015, -1.0612, -2.2288],\n",
      "         [ 0.9015, -1.0612, -2.2288],\n",
      "         [-1.2294,  1.3970,  0.0421]]], grad_fn=<EmbeddingBackward0>)\n"
     ]
    }
   ],
   "source": [
    "embedding = nn.Embedding(8, 3)\n",
    "inpt = torch.tensor([[0, 1, 2, 1], [4, 6, 6, 7]], dtype=torch.long)\n",
    "output = embedding(inpt)\n",
    "print(output)"
   ]
  },
  {
   "cell_type": "code",
   "execution_count": 13,
   "id": "f0afc8ed",
   "metadata": {},
   "outputs": [
    {
     "data": {
      "text/plain": [
       "tensor([[-0.3614,  0.3183,  0.0838],\n",
       "        [-0.2117, -0.6797, -1.2575]], grad_fn=<MeanBackward1>)"
      ]
     },
     "execution_count": 13,
     "metadata": {},
     "output_type": "execute_result"
    }
   ],
   "source": [
    "output.mean(dim=1)"
   ]
  },
  {
   "cell_type": "code",
   "execution_count": 15,
   "id": "3407e372",
   "metadata": {},
   "outputs": [],
   "source": [
    "input1 = torch.tensor([0, 1, 2, 1], dtype=torch.long)\n",
    "input2 = torch.tensor([2, 1, 3, 7, 5], dtype=torch.long)\n",
    "input3 = torch.tensor([6, 4, 2], dtype=torch.long)\n",
    "input4 = torch.tensor([1, 3, 4, 3, 5, 7], dtype=torch.long)\n",
    "inputs = [input1, input2, input3, input4]"
   ]
  },
  {
   "cell_type": "code",
   "execution_count": 16,
   "id": "8abfaf52",
   "metadata": {},
   "outputs": [
    {
     "data": {
      "text/plain": [
       "[tensor([0, 1, 2, 1]),\n",
       " tensor([2, 1, 3, 7, 5]),\n",
       " tensor([6, 4, 2]),\n",
       " tensor([1, 3, 4, 3, 5, 7])]"
      ]
     },
     "execution_count": 16,
     "metadata": {},
     "output_type": "execute_result"
    }
   ],
   "source": [
    "inputs"
   ]
  },
  {
   "cell_type": "code",
   "execution_count": 21,
   "id": "f176605a",
   "metadata": {},
   "outputs": [],
   "source": [
    "offsets = [0] + [i.shape[0] for i in inputs]"
   ]
  },
  {
   "cell_type": "code",
   "execution_count": 24,
   "id": "24dda533",
   "metadata": {},
   "outputs": [
    {
     "data": {
      "text/plain": [
       "[0, 4, 5, 3, 6]"
      ]
     },
     "execution_count": 24,
     "metadata": {},
     "output_type": "execute_result"
    }
   ],
   "source": [
    "offsets"
   ]
  },
  {
   "cell_type": "code",
   "execution_count": 25,
   "id": "ea5a511d",
   "metadata": {},
   "outputs": [],
   "source": [
    "offsets = torch.tensor(offsets[:-1]).cumsum(dim=0)"
   ]
  },
  {
   "cell_type": "code",
   "execution_count": 26,
   "id": "cffaeec1",
   "metadata": {},
   "outputs": [
    {
     "data": {
      "text/plain": [
       "tensor([ 0,  4,  9, 12])"
      ]
     },
     "execution_count": 26,
     "metadata": {},
     "output_type": "execute_result"
    }
   ],
   "source": [
    "offsets"
   ]
  },
  {
   "cell_type": "code",
   "execution_count": 27,
   "id": "2e5cf1d0",
   "metadata": {},
   "outputs": [],
   "source": [
    "inputs = torch.cat(inputs)"
   ]
  },
  {
   "cell_type": "code",
   "execution_count": 28,
   "id": "24eefa7e",
   "metadata": {},
   "outputs": [
    {
     "data": {
      "text/plain": [
       "tensor([0, 1, 2, 1, 2, 1, 3, 7, 5, 6, 4, 2, 1, 3, 4, 3, 5, 7])"
      ]
     },
     "execution_count": 28,
     "metadata": {},
     "output_type": "execute_result"
    }
   ],
   "source": [
    "inputs"
   ]
  },
  {
   "cell_type": "code",
   "execution_count": 30,
   "id": "494635a4",
   "metadata": {},
   "outputs": [
    {
     "name": "stdout",
     "output_type": "stream",
     "text": [
      "tensor([[-0.3425,  0.2018,  0.3092],\n",
      "        [-0.6064,  0.4776,  0.2644],\n",
      "        [ 0.2542,  0.5554,  0.2555],\n",
      "        [-0.4282,  0.8517,  0.2413]], grad_fn=<EmbeddingBagBackward0>)\n"
     ]
    }
   ],
   "source": [
    "embeddingbag = nn.EmbeddingBag(num_embeddings=8, embedding_dim=3)\n",
    "embeddings = embeddingbag(inputs, offsets)\n",
    "print(embeddings)"
   ]
  },
  {
   "cell_type": "code",
   "execution_count": null,
   "id": "0b8fb76e",
   "metadata": {},
   "outputs": [],
   "source": []
  }
 ],
 "metadata": {
  "kernelspec": {
   "display_name": "Python 3 (ipykernel)",
   "language": "python",
   "name": "python3"
  },
  "language_info": {
   "codemirror_mode": {
    "name": "ipython",
    "version": 3
   },
   "file_extension": ".py",
   "mimetype": "text/x-python",
   "name": "python",
   "nbconvert_exporter": "python",
   "pygments_lexer": "ipython3",
   "version": "3.9.12"
  }
 },
 "nbformat": 4,
 "nbformat_minor": 5
}
