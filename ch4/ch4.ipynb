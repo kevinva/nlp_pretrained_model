{
 "cells": [
  {
   "cell_type": "code",
   "execution_count": 39,
   "id": "411e0df5",
   "metadata": {},
   "outputs": [],
   "source": [
    "from torch.nn import RNN\n",
    "import torch\n",
    "import torch.nn as nn\n",
    "import torch.nn.functional as F"
   ]
  },
  {
   "cell_type": "code",
   "execution_count": 2,
   "id": "c2d7c663",
   "metadata": {},
   "outputs": [],
   "source": [
    "rnn = RNN(input_size=4, hidden_size=5, batch_first=True)"
   ]
  },
  {
   "cell_type": "code",
   "execution_count": 3,
   "id": "c9256904",
   "metadata": {},
   "outputs": [],
   "source": [
    "inputs = torch.rand(2, 3, 4)"
   ]
  },
  {
   "cell_type": "code",
   "execution_count": 4,
   "id": "5440f32f",
   "metadata": {},
   "outputs": [],
   "source": [
    "outputs, hn = rnn(inputs)"
   ]
  },
  {
   "cell_type": "code",
   "execution_count": 5,
   "id": "6c92c93c",
   "metadata": {},
   "outputs": [
    {
     "data": {
      "text/plain": [
       "tensor([[[ 0.1379,  0.7494,  0.3985, -0.3255,  0.0272],\n",
       "         [ 0.3392,  0.6557, -0.2550, -0.4567, -0.2601],\n",
       "         [ 0.5708,  0.7729, -0.0370, -0.4537,  0.1507]],\n",
       "\n",
       "        [[ 0.3325,  0.7780, -0.0464, -0.3506, -0.2138],\n",
       "         [ 0.4590,  0.7016, -0.2452, -0.4165, -0.0343],\n",
       "         [ 0.5885,  0.7117, -0.3927, -0.4772,  0.0844]]],\n",
       "       grad_fn=<TransposeBackward1>)"
      ]
     },
     "execution_count": 5,
     "metadata": {},
     "output_type": "execute_result"
    }
   ],
   "source": [
    "outputs"
   ]
  },
  {
   "cell_type": "code",
   "execution_count": 6,
   "id": "fb1f6ab7",
   "metadata": {},
   "outputs": [
    {
     "data": {
      "text/plain": [
       "tensor([[[ 0.5708,  0.7729, -0.0370, -0.4537,  0.1507],\n",
       "         [ 0.5885,  0.7117, -0.3927, -0.4772,  0.0844]]],\n",
       "       grad_fn=<StackBackward0>)"
      ]
     },
     "execution_count": 6,
     "metadata": {},
     "output_type": "execute_result"
    }
   ],
   "source": [
    "hn  # shape: 1 x 批次大小 x 隐藏层大小"
   ]
  },
  {
   "cell_type": "code",
   "execution_count": null,
   "id": "4e5e523b",
   "metadata": {},
   "outputs": [],
   "source": []
  },
  {
   "cell_type": "markdown",
   "id": "ad84d0ee",
   "metadata": {},
   "source": [
    "### transformer demo"
   ]
  },
  {
   "cell_type": "code",
   "execution_count": 7,
   "id": "9f5da283",
   "metadata": {},
   "outputs": [],
   "source": [
    "encoder_layer = nn.TransformerEncoderLayer(d_model=4, nhead=2)\n",
    "src = torch.rand(2, 3, 4)\n",
    "out = encoder_layer(src)"
   ]
  },
  {
   "cell_type": "code",
   "execution_count": 8,
   "id": "a74c44fc",
   "metadata": {},
   "outputs": [
    {
     "data": {
      "text/plain": [
       "tensor([[[ 0.8745,  1.1060, -0.8307, -1.1498],\n",
       "         [-1.6010,  0.1219,  1.1444,  0.3347],\n",
       "         [ 0.3442,  1.4746, -0.7462, -1.0726]],\n",
       "\n",
       "        [[-0.5222,  1.6971, -0.8677, -0.3071],\n",
       "         [-0.0512,  0.9340,  0.7281, -1.6109],\n",
       "         [ 1.5189, -0.6427,  0.2313, -1.1075]]],\n",
       "       grad_fn=<NativeLayerNormBackward0>)"
      ]
     },
     "execution_count": 8,
     "metadata": {},
     "output_type": "execute_result"
    }
   ],
   "source": [
    "out"
   ]
  },
  {
   "cell_type": "code",
   "execution_count": 9,
   "id": "85e9415a",
   "metadata": {},
   "outputs": [
    {
     "name": "stdout",
     "output_type": "stream",
     "text": [
      "tensor([[[ 0.7188,  0.8874, -1.6415,  0.0354],\n",
      "         [-1.3742,  0.1996,  1.4185, -0.2438],\n",
      "         [ 0.0299,  1.3304,  0.1274, -1.4876]],\n",
      "\n",
      "        [[ 0.0065,  1.3204, -1.4930,  0.1661],\n",
      "         [ 0.8215,  0.9743, -0.2800, -1.5157],\n",
      "         [ 0.8588, -0.2737,  0.9355, -1.5206]]],\n",
      "       grad_fn=<NativeLayerNormBackward0>)\n"
     ]
    }
   ],
   "source": [
    "transformer_encoder = nn.TransformerEncoder(encoder_layer, num_layers=6)\n",
    "out = transformer_encoder(src)\n",
    "print(out)"
   ]
  },
  {
   "cell_type": "code",
   "execution_count": 10,
   "id": "fe88f8a3",
   "metadata": {},
   "outputs": [
    {
     "name": "stdout",
     "output_type": "stream",
     "text": [
      "tensor([[[ 0.4187,  1.3972, -0.5734, -1.2425],\n",
      "         [-1.6286,  0.4788,  0.0967,  1.0531],\n",
      "         [-1.6675,  0.8310,  0.1193,  0.7173]],\n",
      "\n",
      "        [[-1.5641, -0.1679,  0.7533,  0.9787],\n",
      "         [-0.6510, -0.5150, -0.5641,  1.7300],\n",
      "         [ 0.0886,  1.5920, -0.9908, -0.6899]]],\n",
      "       grad_fn=<NativeLayerNormBackward0>)\n"
     ]
    }
   ],
   "source": [
    "memory = transformer_encoder(src)\n",
    "decoder_layer = nn.TransformerDecoderLayer(d_model=4, nhead=2)\n",
    "transformer_decoder = nn.TransformerDecoder(decoder_layer, num_layers=6)\n",
    "out_part = torch.rand(2, 3, 4)\n",
    "out = transformer_decoder(out_part, memory)\n",
    "print(out)"
   ]
  },
  {
   "cell_type": "code",
   "execution_count": null,
   "id": "1b4f46e1",
   "metadata": {},
   "outputs": [],
   "source": []
  },
  {
   "cell_type": "markdown",
   "id": "ebc83ba0",
   "metadata": {},
   "source": [
    "### 情感分析"
   ]
  },
  {
   "cell_type": "code",
   "execution_count": 12,
   "id": "0d427725",
   "metadata": {},
   "outputs": [
    {
     "name": "stdout",
     "output_type": "stream",
     "text": [
      "tensor([[[ 0.6923, -0.1346, -0.1242],\n",
      "         [-1.4251,  0.0223, -0.2153],\n",
      "         [ 0.7121,  1.3631,  0.8899],\n",
      "         [-1.4251,  0.0223, -0.2153]],\n",
      "\n",
      "        [[-1.4206, -1.9937, -0.6145],\n",
      "         [ 0.9015, -1.0612, -2.2288],\n",
      "         [ 0.9015, -1.0612, -2.2288],\n",
      "         [-1.2294,  1.3970,  0.0421]]], grad_fn=<EmbeddingBackward0>)\n"
     ]
    }
   ],
   "source": [
    "embedding = nn.Embedding(8, 3)\n",
    "inpt = torch.tensor([[0, 1, 2, 1], [4, 6, 6, 7]], dtype=torch.long)\n",
    "output = embedding(inpt)\n",
    "print(output)"
   ]
  },
  {
   "cell_type": "code",
   "execution_count": 13,
   "id": "f0afc8ed",
   "metadata": {},
   "outputs": [
    {
     "data": {
      "text/plain": [
       "tensor([[-0.3614,  0.3183,  0.0838],\n",
       "        [-0.2117, -0.6797, -1.2575]], grad_fn=<MeanBackward1>)"
      ]
     },
     "execution_count": 13,
     "metadata": {},
     "output_type": "execute_result"
    }
   ],
   "source": [
    "output.mean(dim=1)"
   ]
  },
  {
   "cell_type": "code",
   "execution_count": 15,
   "id": "3407e372",
   "metadata": {},
   "outputs": [],
   "source": [
    "input1 = torch.tensor([0, 1, 2, 1], dtype=torch.long)\n",
    "input2 = torch.tensor([2, 1, 3, 7, 5], dtype=torch.long)\n",
    "input3 = torch.tensor([6, 4, 2], dtype=torch.long)\n",
    "input4 = torch.tensor([1, 3, 4, 3, 5, 7], dtype=torch.long)\n",
    "inputs = [input1, input2, input3, input4]"
   ]
  },
  {
   "cell_type": "code",
   "execution_count": 16,
   "id": "8abfaf52",
   "metadata": {},
   "outputs": [
    {
     "data": {
      "text/plain": [
       "[tensor([0, 1, 2, 1]),\n",
       " tensor([2, 1, 3, 7, 5]),\n",
       " tensor([6, 4, 2]),\n",
       " tensor([1, 3, 4, 3, 5, 7])]"
      ]
     },
     "execution_count": 16,
     "metadata": {},
     "output_type": "execute_result"
    }
   ],
   "source": [
    "inputs"
   ]
  },
  {
   "cell_type": "code",
   "execution_count": 21,
   "id": "f176605a",
   "metadata": {},
   "outputs": [],
   "source": [
    "offsets = [0] + [i.shape[0] for i in inputs]"
   ]
  },
  {
   "cell_type": "code",
   "execution_count": 24,
   "id": "24dda533",
   "metadata": {},
   "outputs": [
    {
     "data": {
      "text/plain": [
       "[0, 4, 5, 3, 6]"
      ]
     },
     "execution_count": 24,
     "metadata": {},
     "output_type": "execute_result"
    }
   ],
   "source": [
    "offsets"
   ]
  },
  {
   "cell_type": "code",
   "execution_count": 25,
   "id": "ea5a511d",
   "metadata": {},
   "outputs": [],
   "source": [
    "offsets = torch.tensor(offsets[:-1]).cumsum(dim=0)"
   ]
  },
  {
   "cell_type": "code",
   "execution_count": 26,
   "id": "cffaeec1",
   "metadata": {},
   "outputs": [
    {
     "data": {
      "text/plain": [
       "tensor([ 0,  4,  9, 12])"
      ]
     },
     "execution_count": 26,
     "metadata": {},
     "output_type": "execute_result"
    }
   ],
   "source": [
    "offsets"
   ]
  },
  {
   "cell_type": "code",
   "execution_count": 27,
   "id": "2e5cf1d0",
   "metadata": {},
   "outputs": [],
   "source": [
    "inputs = torch.cat(inputs)"
   ]
  },
  {
   "cell_type": "code",
   "execution_count": 28,
   "id": "24eefa7e",
   "metadata": {},
   "outputs": [
    {
     "data": {
      "text/plain": [
       "tensor([0, 1, 2, 1, 2, 1, 3, 7, 5, 6, 4, 2, 1, 3, 4, 3, 5, 7])"
      ]
     },
     "execution_count": 28,
     "metadata": {},
     "output_type": "execute_result"
    }
   ],
   "source": [
    "inputs"
   ]
  },
  {
   "cell_type": "code",
   "execution_count": 30,
   "id": "494635a4",
   "metadata": {},
   "outputs": [
    {
     "name": "stdout",
     "output_type": "stream",
     "text": [
      "tensor([[-0.3425,  0.2018,  0.3092],\n",
      "        [-0.6064,  0.4776,  0.2644],\n",
      "        [ 0.2542,  0.5554,  0.2555],\n",
      "        [-0.4282,  0.8517,  0.2413]], grad_fn=<EmbeddingBagBackward0>)\n"
     ]
    }
   ],
   "source": [
    "embeddingbag = nn.EmbeddingBag(num_embeddings=8, embedding_dim=3)\n",
    "embeddings = embeddingbag(inputs, offsets)\n",
    "print(embeddings)"
   ]
  },
  {
   "cell_type": "code",
   "execution_count": null,
   "id": "0b8fb76e",
   "metadata": {},
   "outputs": [],
   "source": []
  },
  {
   "cell_type": "code",
   "execution_count": null,
   "id": "e7f5e9bb",
   "metadata": {},
   "outputs": [],
   "source": []
  },
  {
   "cell_type": "code",
   "execution_count": null,
   "id": "8f08c215",
   "metadata": {},
   "outputs": [],
   "source": []
  },
  {
   "cell_type": "code",
   "execution_count": null,
   "id": "3a57978e",
   "metadata": {},
   "outputs": [],
   "source": []
  },
  {
   "cell_type": "code",
   "execution_count": 25,
   "id": "737b6990",
   "metadata": {},
   "outputs": [],
   "source": [
    "from torch.nn.utils.rnn import pad_sequence\n",
    "\n",
    "inpts = [torch.tensor([1, 23, 2, 32, 6, 3, 2]), torch.tensor([2, 3, 6, 86])]\n",
    "inpts = pad_sequence(inpts2, batch_first=True)"
   ]
  },
  {
   "cell_type": "code",
   "execution_count": 26,
   "id": "ccca401d",
   "metadata": {},
   "outputs": [
    {
     "data": {
      "text/plain": [
       "tensor([[ 1, 23,  2, 32,  6,  3,  2],\n",
       "        [ 2,  3,  6, 86,  0,  0,  0]])"
      ]
     },
     "execution_count": 26,
     "metadata": {},
     "output_type": "execute_result"
    }
   ],
   "source": [
    "inpts"
   ]
  },
  {
   "cell_type": "code",
   "execution_count": 29,
   "id": "b4f71f5f",
   "metadata": {},
   "outputs": [
    {
     "data": {
      "text/plain": [
       "tensor([[[-1.3715,  0.6363, -0.5548, -0.0558],\n",
       "         [ 1.2211,  2.4912, -0.2137,  0.4861],\n",
       "         [ 0.9996,  0.3148, -1.3507,  0.6074],\n",
       "         [ 0.3628,  1.2994, -0.3457,  0.0648],\n",
       "         [ 1.7582, -1.3414,  0.9058,  1.2536],\n",
       "         [ 0.4227,  0.3319,  0.0122,  0.2849],\n",
       "         [ 0.9996,  0.3148, -1.3507,  0.6074]],\n",
       "\n",
       "        [[ 0.9996,  0.3148, -1.3507,  0.6074],\n",
       "         [ 0.4227,  0.3319,  0.0122,  0.2849],\n",
       "         [ 1.7582, -1.3414,  0.9058,  1.2536],\n",
       "         [ 0.2788,  0.7897,  0.0026,  1.2993],\n",
       "         [-0.9469,  0.6242,  0.6587, -0.0258],\n",
       "         [-0.9469,  0.6242,  0.6587, -0.0258],\n",
       "         [-0.9469,  0.6242,  0.6587, -0.0258]]], grad_fn=<EmbeddingBackward0>)"
      ]
     },
     "execution_count": 29,
     "metadata": {},
     "output_type": "execute_result"
    }
   ],
   "source": [
    "embedding_size = 4\n",
    "\n",
    "embedding = nn.Embedding(1000, embedding_size)\n",
    "embeded = embedding(inpts)\n",
    "embeded"
   ]
  },
  {
   "cell_type": "code",
   "execution_count": 28,
   "id": "baafec65",
   "metadata": {},
   "outputs": [
    {
     "data": {
      "text/plain": [
       "tensor([[[-1.3296, -0.6447,  0.9056,  1.3039,  1.2000, -1.1855,  0.9056],\n",
       "         [-0.4849, -1.1315, -2.0710,  0.6838,  1.4062, -0.1139, -2.0710],\n",
       "         [-0.9392, -0.4895, -0.0487,  0.4222,  2.1146, -0.1432, -0.0487],\n",
       "         [-2.6767, -0.4440,  2.7525,  0.3903, -0.2755,  0.5894,  2.7525]],\n",
       "\n",
       "        [[ 0.9056, -1.1855,  1.2000, -0.2737,  0.1550,  0.1550,  0.1550],\n",
       "         [-2.0710, -0.1139,  1.4062,  0.8133, -3.4000, -3.4000, -3.4000],\n",
       "         [-0.0487, -0.1432,  2.1146,  1.3023, -1.0608, -1.0608, -1.0608],\n",
       "         [ 2.7525,  0.5894, -0.2755,  0.3600, -0.8101, -0.8101, -0.8101]]],\n",
       "       grad_fn=<PermuteBackward0>)"
      ]
     },
     "execution_count": 28,
     "metadata": {},
     "output_type": "execute_result"
    }
   ],
   "source": [
    "embeded_permute = embeded.permute(0, 2, 1)\n",
    "embeded_permute"
   ]
  },
  {
   "cell_type": "code",
   "execution_count": 32,
   "id": "426710a1",
   "metadata": {},
   "outputs": [
    {
     "data": {
      "text/plain": [
       "tensor([[[ 0.8028, -0.5301, -0.6558,  0.3391,  0.2585, -1.4390, -0.7452],\n",
       "         [ 1.5670, -0.9241, -1.2493, -0.2487,  0.2659, -0.9733, -0.4585]],\n",
       "\n",
       "        [[-0.8408,  0.4677,  1.0985, -0.5779, -1.0557, -0.3508,  0.4763],\n",
       "         [-0.4814,  0.0597, -0.1091,  0.5664,  1.1982,  1.4356,  0.6557]]],\n",
       "       grad_fn=<ConvolutionBackward0>)"
      ]
     },
     "execution_count": 32,
     "metadata": {},
     "output_type": "execute_result"
    }
   ],
   "source": [
    "num_filter = 2\n",
    "filter_size = 3\n",
    "\n",
    "conv = nn.Conv1d(embedding_size, num_filter, filter_size, padding=1)\n",
    "conv(embeded_permute)"
   ]
  },
  {
   "cell_type": "code",
   "execution_count": null,
   "id": "70b5ae97",
   "metadata": {},
   "outputs": [],
   "source": []
  },
  {
   "cell_type": "code",
   "execution_count": 60,
   "id": "9ae078b8",
   "metadata": {},
   "outputs": [],
   "source": [
    "class CNN(nn.Module):\n",
    "\n",
    "    def __init__(self, vocab_size, embedding_dim, filter_size, num_filter, num_class):\n",
    "        super(CNN, self).__init__()\n",
    "\n",
    "        self.embedding = nn.Embedding(vocab_size, embedding_dim)\n",
    "        self.conv1d = nn.Conv1d(embedding_dim, num_filter, filter_size, padding=1)\n",
    "        self.activate = F.relu\n",
    "        self.linear = nn.Linear(num_filter, num_class)\n",
    "\n",
    "    def forward(self, inputs):\n",
    "        embedding = self.embedding(inputs)\n",
    "        print(f'embedding={embedding}')\n",
    "        convolution = self.activate(self.conv1d(embedding.permute(0, 2, 1)))  # permute? 一维卷积是对词embedding的每一个维度进行卷积，所以转成这种形式\n",
    "        print(f'convolution={convolution}')\n",
    "        pooling = F.max_pool1d(convolution, kernel_size=convolution.shape[2])\n",
    "        print(f'pooling={pooling.squeeze(dim=2)}')\n",
    "        outputs = self.linear(pooling.squeeze(dim=2))\n",
    "        print(f'outputs={outputs}')\n",
    "        log_probs = F.log_softmax(outputs, dim=1)\n",
    "\n",
    "        return log_probs"
   ]
  },
  {
   "cell_type": "code",
   "execution_count": 61,
   "id": "cbc5b849",
   "metadata": {},
   "outputs": [
    {
     "name": "stdout",
     "output_type": "stream",
     "text": [
      "inputs: tensor([[ 1, 23,  2, 32,  6,  3,  2],\n",
      "        [ 2,  3,  6, 86,  0,  0,  0]])\n",
      "embedding=tensor([[[ 0.2413,  0.0720, -0.7477,  1.8785],\n",
      "         [-1.7803, -0.0543, -0.1390,  0.3807],\n",
      "         [ 1.0015, -0.7007,  0.1363, -0.3353],\n",
      "         [ 0.9456,  0.7800,  0.4074, -1.4046],\n",
      "         [-0.3521, -0.1994, -0.7078, -1.0127],\n",
      "         [-1.7384,  0.0944,  0.7324, -1.1386],\n",
      "         [ 1.0015, -0.7007,  0.1363, -0.3353]],\n",
      "\n",
      "        [[ 1.0015, -0.7007,  0.1363, -0.3353],\n",
      "         [-1.7384,  0.0944,  0.7324, -1.1386],\n",
      "         [-0.3521, -0.1994, -0.7078, -1.0127],\n",
      "         [ 0.8916, -1.0496, -1.5470,  0.4027],\n",
      "         [ 1.5845,  1.9865, -1.2389,  2.6552],\n",
      "         [ 1.5845,  1.9865, -1.2389,  2.6552],\n",
      "         [ 1.5845,  1.9865, -1.2389,  2.6552]]], grad_fn=<EmbeddingBackward0>)\n",
      "convolution=tensor([[[0.7875, 0.2760, 0.3373, 0.0000, 0.7290, 0.0000, 0.0000],\n",
      "         [0.0000, 0.0000, 0.0000, 0.0981, 0.0000, 0.0000, 0.0000]],\n",
      "\n",
      "        [[0.7420, 0.1674, 0.0000, 0.0000, 0.0000, 0.4017, 1.0699],\n",
      "         [0.0000, 0.0000, 0.0000, 0.0000, 0.6354, 0.1927, 0.0162]]],\n",
      "       grad_fn=<ReluBackward0>)\n",
      "pooling=tensor([[0.7875, 0.0981],\n",
      "        [1.0699, 0.6354]], grad_fn=<SqueezeBackward1>)\n",
      "outputs=tensor([[ 0.1615, -0.1051],\n",
      "        [ 0.1119, -0.1888]], grad_fn=<AddmmBackward0>)\n"
     ]
    },
    {
     "data": {
      "text/plain": [
       "tensor([[-0.5687, -0.8353],\n",
       "        [-0.5540, -0.8548]], grad_fn=<LogSoftmaxBackward0>)"
      ]
     },
     "execution_count": 61,
     "metadata": {},
     "output_type": "execute_result"
    }
   ],
   "source": [
    "print(f'inputs: {inpts}')\n",
    "\n",
    "cnn = CNN(1000, embedding_size, filter_size, num_filter, 2)\n",
    "cnn(inpts)"
   ]
  },
  {
   "cell_type": "code",
   "execution_count": null,
   "id": "7b9b0361",
   "metadata": {},
   "outputs": [],
   "source": []
  }
 ],
 "metadata": {
  "kernelspec": {
   "display_name": "Python 3 (ipykernel)",
   "language": "python",
   "name": "python3"
  },
  "language_info": {
   "codemirror_mode": {
    "name": "ipython",
    "version": 3
   },
   "file_extension": ".py",
   "mimetype": "text/x-python",
   "name": "python",
   "nbconvert_exporter": "python",
   "pygments_lexer": "ipython3",
   "version": "3.9.12"
  }
 },
 "nbformat": 4,
 "nbformat_minor": 5
}
