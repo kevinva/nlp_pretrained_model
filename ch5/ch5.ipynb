{
 "cells": [
  {
   "cell_type": "code",
   "execution_count": 20,
   "id": "dd3deca3",
   "metadata": {},
   "outputs": [],
   "source": [
    "import torch\n",
    "import torch.nn as nn\n",
    "import torch.nn.functional as F"
   ]
  },
  {
   "cell_type": "code",
   "execution_count": 21,
   "id": "f2568198",
   "metadata": {},
   "outputs": [
    {
     "data": {
      "text/plain": [
       "tensor([[ 0.0038, -0.4960,  0.7453],\n",
       "        [-0.2307, -0.6004,  1.2908],\n",
       "        [-1.0839, -1.1705, -1.2535]])"
      ]
     },
     "execution_count": 21,
     "metadata": {},
     "output_type": "execute_result"
    }
   ],
   "source": [
    "inputs = torch.randn(3, 3)\n",
    "inputs"
   ]
  },
  {
   "cell_type": "code",
   "execution_count": 22,
   "id": "0f44fe95",
   "metadata": {},
   "outputs": [
    {
     "data": {
      "text/plain": [
       "tensor([[0.2699, 0.1637, 0.5664],\n",
       "        [0.1595, 0.1102, 0.7303],\n",
       "        [0.3622, 0.3321, 0.3057]])"
      ]
     },
     "execution_count": 22,
     "metadata": {},
     "output_type": "execute_result"
    }
   ],
   "source": [
    "sm = nn.Softmax(dim=1)\n",
    "sm_out = sm(inputs)\n",
    "sm_out"
   ]
  },
  {
   "cell_type": "code",
   "execution_count": 23,
   "id": "60667eab",
   "metadata": {},
   "outputs": [
    {
     "data": {
      "text/plain": [
       "tensor([1., 1., 1.])"
      ]
     },
     "execution_count": 23,
     "metadata": {},
     "output_type": "execute_result"
    }
   ],
   "source": [
    "sm_out.sum(dim=1)"
   ]
  },
  {
   "cell_type": "code",
   "execution_count": 24,
   "id": "fa675aa9",
   "metadata": {},
   "outputs": [
    {
     "data": {
      "text/plain": [
       "tensor([[-1.3099, -1.8097, -0.5684],\n",
       "        [-1.8358, -2.2054, -0.3143],\n",
       "        [-1.0156, -1.1022, -1.1852]])"
      ]
     },
     "execution_count": 24,
     "metadata": {},
     "output_type": "execute_result"
    }
   ],
   "source": [
    "sm_log_out = torch.log(sm_out)\n",
    "sm_log_out"
   ]
  },
  {
   "cell_type": "code",
   "execution_count": 25,
   "id": "452b38f2",
   "metadata": {},
   "outputs": [],
   "source": [
    "# 计算NLLLoss\n",
    "# 假设我们现在Target是[1, 0, 2]（第一张图片是猫，第二张是狗，第三张是熊）。\n",
    "# 在log_softmax的计算结果中（每一行代表一个样本），第一行取第1个元素，第二行取第0个，第三行取第2个，去掉负号\n",
    "# 再求个均值\n",
    "target = torch.tensor([1, 0, 2])"
   ]
  },
  {
   "cell_type": "code",
   "execution_count": 26,
   "id": "32464a24",
   "metadata": {},
   "outputs": [
    {
     "data": {
      "text/plain": [
       "1.0455666666666665"
      ]
     },
     "execution_count": 26,
     "metadata": {},
     "output_type": "execute_result"
    }
   ],
   "source": [
    "# 手动计算\n",
    "-((-0.4073) + (-1.8207) + (-0.9087)) / 3"
   ]
  },
  {
   "cell_type": "code",
   "execution_count": 27,
   "id": "3be69d68",
   "metadata": {},
   "outputs": [
    {
     "data": {
      "text/plain": [
       "tensor(1.6102)"
      ]
     },
     "execution_count": 27,
     "metadata": {},
     "output_type": "execute_result"
    }
   ],
   "source": [
    "loss = nn.NLLLoss()\n",
    "loss(sm_log_out, target)"
   ]
  },
  {
   "cell_type": "code",
   "execution_count": 28,
   "id": "6132b6d7",
   "metadata": {},
   "outputs": [],
   "source": [
    "# CrossEntropyLoss就是log_softmax与NLLLoss组合起来的操作\n",
    "\n",
    "loss2 = nn.CrossEntropyLoss()"
   ]
  },
  {
   "cell_type": "code",
   "execution_count": 30,
   "id": "68c5b668",
   "metadata": {},
   "outputs": [
    {
     "data": {
      "text/plain": [
       "tensor([[ 0.0038, -0.4960,  0.7453],\n",
       "        [-0.2307, -0.6004,  1.2908],\n",
       "        [-1.0839, -1.1705, -1.2535]])"
      ]
     },
     "execution_count": 30,
     "metadata": {},
     "output_type": "execute_result"
    }
   ],
   "source": [
    "inputs"
   ]
  },
  {
   "cell_type": "code",
   "execution_count": 31,
   "id": "b5102d52",
   "metadata": {},
   "outputs": [
    {
     "data": {
      "text/plain": [
       "tensor([1, 0, 2])"
      ]
     },
     "execution_count": 31,
     "metadata": {},
     "output_type": "execute_result"
    }
   ],
   "source": [
    "target"
   ]
  },
  {
   "cell_type": "code",
   "execution_count": 33,
   "id": "963bdcc9",
   "metadata": {},
   "outputs": [
    {
     "data": {
      "text/plain": [
       "tensor(1.6102)"
      ]
     },
     "execution_count": 33,
     "metadata": {},
     "output_type": "execute_result"
    }
   ],
   "source": [
    "loss2(inputs, target)"
   ]
  },
  {
   "cell_type": "code",
   "execution_count": null,
   "id": "81d46e7d",
   "metadata": {},
   "outputs": [],
   "source": []
  },
  {
   "cell_type": "code",
   "execution_count": 36,
   "id": "ed0fb59f",
   "metadata": {},
   "outputs": [],
   "source": [
    "from torch.utils.data import Dataset, DataLoader"
   ]
  },
  {
   "cell_type": "code",
   "execution_count": 37,
   "id": "c9ca7fb3",
   "metadata": {},
   "outputs": [
    {
     "ename": "IndentationError",
     "evalue": "expected an indented block (557997044.py, line 1)",
     "output_type": "error",
     "traceback": [
      "\u001b[0;36m  Input \u001b[0;32mIn [37]\u001b[0;36m\u001b[0m\n\u001b[0;31m    class RnnlmDataset(Dataset):\u001b[0m\n\u001b[0m                                ^\u001b[0m\n\u001b[0;31mIndentationError\u001b[0m\u001b[0;31m:\u001b[0m expected an indented block\n"
     ]
    }
   ],
   "source": [
    "class RnnlmDataset(Dataset):\n",
    "    \n",
    "    def __init__(self, corpus, vocab):\n",
    "        self.data = []\n",
    "        self.bos = vocab"
   ]
  },
  {
   "cell_type": "code",
   "execution_count": null,
   "id": "ada35069",
   "metadata": {},
   "outputs": [],
   "source": []
  }
 ],
 "metadata": {
  "kernelspec": {
   "display_name": "Python 3 (ipykernel)",
   "language": "python",
   "name": "python3"
  },
  "language_info": {
   "codemirror_mode": {
    "name": "ipython",
    "version": 3
   },
   "file_extension": ".py",
   "mimetype": "text/x-python",
   "name": "python",
   "nbconvert_exporter": "python",
   "pygments_lexer": "ipython3",
   "version": "3.9.12"
  }
 },
 "nbformat": 4,
 "nbformat_minor": 5
}
