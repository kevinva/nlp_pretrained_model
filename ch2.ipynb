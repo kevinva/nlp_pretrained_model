{
 "cells": [
  {
   "cell_type": "code",
   "execution_count": 1,
   "id": "7db028ce",
   "metadata": {},
   "outputs": [],
   "source": [
    "import numpy as np"
   ]
  },
  {
   "cell_type": "code",
   "execution_count": 2,
   "id": "eb071fb3",
   "metadata": {},
   "outputs": [],
   "source": [
    "M = np.array([[0, 2, 1, 1, 1, 1, 1, 2, 1, 3],\n",
    "              [2, 0, 1, 1, 1, 0, 0, 1, 1, 2],\n",
    "              [1, 1, 0, 1, 1, 0, 0, 0, 0, 1],\n",
    "              [1, 1, 1, 0, 1, 0, 0, 0, 0, 1],\n",
    "              [1, 1, 1, 1, 0, 0, 0, 0, 0, 1],\n",
    "              [1, 0, 0, 0, 0, 0, 1, 1, 0, 1],\n",
    "              [1, 0, 0, 0, 0, 1, 0, 1, 0, 1],\n",
    "              [2, 1, 0, 0, 0, 1, 1, 0, 1, 2],\n",
    "              [1, 1, 0, 0, 0, 0, 0, 1, 0, 1],\n",
    "              [3, 2, 1, 1, 1, 1, 1, 2, 1, 0]])"
   ]
  },
  {
   "cell_type": "code",
   "execution_count": 7,
   "id": "3145245f",
   "metadata": {},
   "outputs": [],
   "source": [
    "def pmi(M, positive=True):\n",
    "    col_totals = M.sum(axis=0)\n",
    "    row_totals = M.sum(axis=1)\n",
    "    total = col_totals.sum()\n",
    "    expected = np.outer(row_totals, col_totals) / total\n",
    "    M = M / expected\n",
    "    with np.errstate(divide='ignore'):\n",
    "        M = np.log(M)\n",
    "    M[np.isinf(M)] = 0.0\n",
    "    if positive:\n",
    "        M[M < 0] = 0.0\n",
    "    return M"
   ]
  },
  {
   "cell_type": "code",
   "execution_count": 8,
   "id": "e7d3b3b6",
   "metadata": {},
   "outputs": [],
   "source": [
    "M_pmi = pmi(M)"
   ]
  },
  {
   "cell_type": "code",
   "execution_count": 10,
   "id": "3d783328",
   "metadata": {},
   "outputs": [
    {
     "name": "stdout",
     "output_type": "stream",
     "text": [
      "[[0.   0.18 0.07 0.07 0.07 0.3  0.3  0.3  0.3  0.22]\n",
      " [0.18 0.   0.44 0.44 0.44 0.   0.   0.   0.66 0.18]\n",
      " [0.07 0.44 0.   1.03 1.03 0.   0.   0.   0.   0.07]\n",
      " [0.07 0.44 1.03 0.   1.03 0.   0.   0.   0.   0.07]\n",
      " [0.07 0.44 1.03 1.03 0.   0.   0.   0.   0.   0.07]\n",
      " [0.3  0.   0.   0.   0.   0.   1.48 0.78 0.   0.3 ]\n",
      " [0.3  0.   0.   0.   0.   1.48 0.   0.78 0.   0.3 ]\n",
      " [0.3  0.   0.   0.   0.   0.78 0.78 0.   0.78 0.3 ]\n",
      " [0.3  0.66 0.   0.   0.   0.   0.   0.78 0.   0.3 ]\n",
      " [0.22 0.18 0.07 0.07 0.07 0.3  0.3  0.3  0.3  0.  ]]\n"
     ]
    }
   ],
   "source": [
    "np.set_printoptions(precision=2)\n",
    "print(M_pmi)"
   ]
  },
  {
   "cell_type": "code",
   "execution_count": 11,
   "id": "0c26cb2f",
   "metadata": {},
   "outputs": [],
   "source": [
    "U, s, Vh = np.linalg.svd(M_pmi)"
   ]
  },
  {
   "cell_type": "code",
   "execution_count": 15,
   "id": "7f537725",
   "metadata": {},
   "outputs": [],
   "source": [
    "import matplotlib.pyplot as plt\n",
    "\n",
    "plt.rcParams['font.sans-serif'] = ['SimHei']\n",
    "plt.rcParams['axes.unicode_minus'] = False"
   ]
  },
  {
   "cell_type": "code",
   "execution_count": 16,
   "id": "e0021ddd",
   "metadata": {},
   "outputs": [
    {
     "data": {
      "image/png": "[encoded data removed]",
      "text/plain": [
       "<Figure size 432x288 with 1 Axes>"
      ]
     },
     "metadata": {
      "needs_background": "light"
     },
     "output_type": "display_data"
    }
   ],
   "source": [
    "words = ['我', '喜欢', '自然', '语言', '处理', '爱', '深度', '学习', '机器', '。']\n",
    "for i in range(len(words)):\n",
    "    plt.text(U[i, 0], U[i, 1], words[i])"
   ]
  },
  {
   "cell_type": "code",
   "execution_count": null,
   "id": "fc50c49d",
   "metadata": {},
   "outputs": [],
   "source": []
  }
 ],
 "metadata": {
  "kernelspec": {
   "display_name": "Python 3 (ipykernel)",
   "language": "python",
   "name": "python3"
  },
  "language_info": {
   "codemirror_mode": {
    "name": "ipython",
    "version": 3
   },
   "file_extension": ".py",
   "mimetype": "text/x-python",
   "name": "python",
   "nbconvert_exporter": "python",
   "pygments_lexer": "ipython3",
   "version": "3.9.12"
  }
 },
 "nbformat": 4,
 "nbformat_minor": 5
}
